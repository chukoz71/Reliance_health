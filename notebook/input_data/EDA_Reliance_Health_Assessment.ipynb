{
 "cells": [
  {
   "cell_type": "markdown",
   "id": "ca8bed61",
   "metadata": {},
   "source": [
    "## Relaince- Data Analyst Test\n"
   ]
  },
  {
   "cell_type": "markdown",
   "id": "42d74c5d",
   "metadata": {},
   "source": [
    "#### Guided Steps\n",
    "\n",
    "- Understanding the Problem Statement\n",
    "- Data Checks to perform\n",
    "- Data Cleaning\n",
    "- Exploratory data analysis\n",
    "- Data Pre-Processing\n"
   ]
  },
  {
   "cell_type": "markdown",
   "id": "dbe0d138",
   "metadata": {},
   "source": [
    "### 1) Problem statement\n",
    "You are a Data Analyst working with the product team in charge of our Customer Care, among others the this team ensures that our self-service knowledge base is useful to our customers.\n",
    "\n",
    "The knowledge base is a wiki site that contains articles around a broad set of topics, from general health to how to guides. Users navigate it using a search page which presents results ordered by an algorithm.\n",
    "\n",
    "The Data Team uses Event logging (EL) to track a variety of performance and usage metrics to help on the decision making process.Specifically, the most used metrics are:\n",
    "\n",
    "-A) clickthrough rate (CR) calculated as the proportion of search sessions where the user clicked on one of the results displayed.\n",
    "\n",
    "-B) zero results rate (ZRR) calculated as the proportion of searches that yielded 0 results and other metrics outside the scope of this task. EL uses JavaScript to asynchronously send messages (events) to the servers when the user has performed specific actions. In this task, you will analyse a subset of our event logs.\n",
    "\n",
    "The engineering team has been worked the site to improve the user experience, this change was tested in group B of the dataset below.\n",
    "\n",
    "The Product Manager of the team comes to you on your weekly catch up and asks you too check whether the changes made have had a significant impact on user behaviour.\n",
    "\n",
    "\n",
    "\n",
    "### 2) Data Collection\n",
    "- Dataset Source - C:\\Reliance_Health_Assessment\\Reliance_Health\\notebook\\input_data\\events_log_2.csv\n",
    "- The data consists of 9 column and 400165 rows."
   ]
  },
  {
   "cell_type": "code",
   "execution_count": 19,
   "id": "5bc265d4",
   "metadata": {},
   "outputs": [],
   "source": [
    "import pandas as pd\n",
    "import matplotlib.pyplot as plt\n",
    "import seaborn as sns\n",
    "import numpy as np\n",
    "from scipy import stats\n",
    "from scipy.stats import ttest_ind\n",
    "import warnings\n",
    "warnings.filterwarnings('ignore')\n",
    "\n",
    "%matplotlib inline"
   ]
  },
  {
   "cell_type": "code",
   "execution_count": 20,
   "id": "b276db60",
   "metadata": {},
   "outputs": [
    {
     "name": "stdout",
     "output_type": "stream",
     "text": [
      "<class 'pandas.core.frame.DataFrame'>\n",
      "RangeIndex: 400165 entries, 0 to 400164\n",
      "Data columns (total 9 columns):\n",
      " #   Column           Non-Null Count   Dtype  \n",
      "---  ------           --------------   -----  \n",
      " 0   uuid             400165 non-null  object \n",
      " 1   timestamp        400165 non-null  float64\n",
      " 2   session_id       400165 non-null  object \n",
      " 3   group            400165 non-null  object \n",
      " 4   action           400165 non-null  object \n",
      " 5   checkin          223824 non-null  float64\n",
      " 6   page_id          400165 non-null  object \n",
      " 7   n_results        136234 non-null  float64\n",
      " 8   result_position  230482 non-null  float64\n",
      "dtypes: float64(4), object(5)\n",
      "memory usage: 27.5+ MB\n"
     ]
    }
   ],
   "source": [
    "events= pd.read_csv('events_log_2.csv') # read the data\n",
    "# df['timestamp'] = df['timestamp'].astype(int)\n",
    "# pd.DataFrame.to_csv(df,'events_log_.csv')\n",
    "events.info() # check the data structure"
   ]
  },
  {
   "cell_type": "code",
   "execution_count": 21,
   "id": "b6bd23ec",
   "metadata": {},
   "outputs": [
    {
     "data": {
      "text/html": [
       "<div>\n",
       "<style scoped>\n",
       "    .dataframe tbody tr th:only-of-type {\n",
       "        vertical-align: middle;\n",
       "    }\n",
       "\n",
       "    .dataframe tbody tr th {\n",
       "        vertical-align: top;\n",
       "    }\n",
       "\n",
       "    .dataframe thead th {\n",
       "        text-align: right;\n",
       "    }\n",
       "</style>\n",
       "<table border=\"1\" class=\"dataframe\">\n",
       "  <thead>\n",
       "    <tr style=\"text-align: right;\">\n",
       "      <th></th>\n",
       "      <th>uuid</th>\n",
       "      <th>timestamp</th>\n",
       "      <th>session_id</th>\n",
       "      <th>group</th>\n",
       "      <th>action</th>\n",
       "      <th>checkin</th>\n",
       "      <th>page_id</th>\n",
       "      <th>n_results</th>\n",
       "      <th>result_position</th>\n",
       "    </tr>\n",
       "  </thead>\n",
       "  <tbody>\n",
       "    <tr>\n",
       "      <th>0</th>\n",
       "      <td>00000736167c507e8ec225bd9e71f9e5</td>\n",
       "      <td>-2147483648</td>\n",
       "      <td>78245c2c3fba013a</td>\n",
       "      <td>b</td>\n",
       "      <td>searchResultPage</td>\n",
       "      <td>NaN</td>\n",
       "      <td>cbeb66d1bc1f1bc2</td>\n",
       "      <td>5.0</td>\n",
       "      <td>NaN</td>\n",
       "    </tr>\n",
       "    <tr>\n",
       "      <th>1</th>\n",
       "      <td>00000c69fe345268935463abbfa5d5b3</td>\n",
       "      <td>-2147483648</td>\n",
       "      <td>c559c3be98dca8a4</td>\n",
       "      <td>a</td>\n",
       "      <td>searchResultPage</td>\n",
       "      <td>NaN</td>\n",
       "      <td>eb658e8722aad674</td>\n",
       "      <td>10.0</td>\n",
       "      <td>NaN</td>\n",
       "    </tr>\n",
       "    <tr>\n",
       "      <th>2</th>\n",
       "      <td>00003bfdab715ee59077a3670331b787</td>\n",
       "      <td>-2147483648</td>\n",
       "      <td>760bf89817ce4b08</td>\n",
       "      <td>a</td>\n",
       "      <td>checkin</td>\n",
       "      <td>30.0</td>\n",
       "      <td>f99a9fc1f7fdd21e</td>\n",
       "      <td>NaN</td>\n",
       "      <td>NaN</td>\n",
       "    </tr>\n",
       "    <tr>\n",
       "      <th>3</th>\n",
       "      <td>0000465cd7c35ad2bdeafec953e08c1a</td>\n",
       "      <td>-2147483648</td>\n",
       "      <td>fb905603d31b2071</td>\n",
       "      <td>a</td>\n",
       "      <td>checkin</td>\n",
       "      <td>60.0</td>\n",
       "      <td>e5626962a6939a75</td>\n",
       "      <td>NaN</td>\n",
       "      <td>10.0</td>\n",
       "    </tr>\n",
       "    <tr>\n",
       "      <th>4</th>\n",
       "      <td>000050cbb4ef5b42b16c4d2cf69e6358</td>\n",
       "      <td>-2147483648</td>\n",
       "      <td>c2bf5e5172a892dc</td>\n",
       "      <td>a</td>\n",
       "      <td>checkin</td>\n",
       "      <td>30.0</td>\n",
       "      <td>787dd6a4c371cbf9</td>\n",
       "      <td>NaN</td>\n",
       "      <td>NaN</td>\n",
       "    </tr>\n",
       "  </tbody>\n",
       "</table>\n",
       "</div>"
      ],
      "text/plain": [
       "                               uuid   timestamp        session_id group  \\\n",
       "0  00000736167c507e8ec225bd9e71f9e5 -2147483648  78245c2c3fba013a     b   \n",
       "1  00000c69fe345268935463abbfa5d5b3 -2147483648  c559c3be98dca8a4     a   \n",
       "2  00003bfdab715ee59077a3670331b787 -2147483648  760bf89817ce4b08     a   \n",
       "3  0000465cd7c35ad2bdeafec953e08c1a -2147483648  fb905603d31b2071     a   \n",
       "4  000050cbb4ef5b42b16c4d2cf69e6358 -2147483648  c2bf5e5172a892dc     a   \n",
       "\n",
       "             action  checkin           page_id  n_results  result_position  \n",
       "0  searchResultPage      NaN  cbeb66d1bc1f1bc2        5.0              NaN  \n",
       "1  searchResultPage      NaN  eb658e8722aad674       10.0              NaN  \n",
       "2           checkin     30.0  f99a9fc1f7fdd21e        NaN              NaN  \n",
       "3           checkin     60.0  e5626962a6939a75        NaN             10.0  \n",
       "4           checkin     30.0  787dd6a4c371cbf9        NaN              NaN  "
      ]
     },
     "execution_count": 21,
     "metadata": {},
     "output_type": "execute_result"
    }
   ],
   "source": [
    "events['timestamp'] = events['timestamp'].astype(int) #converting the timestamp to integers\n",
    "events.head()"
   ]
  },
  {
   "cell_type": "code",
   "execution_count": 22,
   "id": "c9c5c015",
   "metadata": {},
   "outputs": [],
   "source": [
    "pd.DataFrame.to_csv(events,'events_log_.csv')"
   ]
  },
  {
   "cell_type": "code",
   "execution_count": 31,
   "id": "b3a4e913",
   "metadata": {},
   "outputs": [
    {
     "data": {
      "text/html": [
       "<div>\n",
       "<style scoped>\n",
       "    .dataframe tbody tr th:only-of-type {\n",
       "        vertical-align: middle;\n",
       "    }\n",
       "\n",
       "    .dataframe tbody tr th {\n",
       "        vertical-align: top;\n",
       "    }\n",
       "\n",
       "    .dataframe thead th {\n",
       "        text-align: right;\n",
       "    }\n",
       "</style>\n",
       "<table border=\"1\" class=\"dataframe\">\n",
       "  <thead>\n",
       "    <tr style=\"text-align: right;\">\n",
       "      <th></th>\n",
       "      <th>Unnamed: 0</th>\n",
       "      <th>uuid</th>\n",
       "      <th>session_id</th>\n",
       "      <th>group</th>\n",
       "      <th>action</th>\n",
       "      <th>checkin</th>\n",
       "      <th>page_id</th>\n",
       "      <th>n_results</th>\n",
       "      <th>result_position</th>\n",
       "    </tr>\n",
       "    <tr>\n",
       "      <th>timestamp</th>\n",
       "      <th></th>\n",
       "      <th></th>\n",
       "      <th></th>\n",
       "      <th></th>\n",
       "      <th></th>\n",
       "      <th></th>\n",
       "      <th></th>\n",
       "      <th></th>\n",
       "      <th></th>\n",
       "    </tr>\n",
       "  </thead>\n",
       "  <tbody>\n",
       "    <tr>\n",
       "      <th>-2147483648</th>\n",
       "      <td>0</td>\n",
       "      <td>00000736167c507e8ec225bd9e71f9e5</td>\n",
       "      <td>78245c2c3fba013a</td>\n",
       "      <td>b</td>\n",
       "      <td>searchResultPage</td>\n",
       "      <td>NaN</td>\n",
       "      <td>cbeb66d1bc1f1bc2</td>\n",
       "      <td>5.0</td>\n",
       "      <td>NaN</td>\n",
       "    </tr>\n",
       "    <tr>\n",
       "      <th>-2147483648</th>\n",
       "      <td>1</td>\n",
       "      <td>00000c69fe345268935463abbfa5d5b3</td>\n",
       "      <td>c559c3be98dca8a4</td>\n",
       "      <td>a</td>\n",
       "      <td>searchResultPage</td>\n",
       "      <td>NaN</td>\n",
       "      <td>eb658e8722aad674</td>\n",
       "      <td>10.0</td>\n",
       "      <td>NaN</td>\n",
       "    </tr>\n",
       "    <tr>\n",
       "      <th>-2147483648</th>\n",
       "      <td>2</td>\n",
       "      <td>00003bfdab715ee59077a3670331b787</td>\n",
       "      <td>760bf89817ce4b08</td>\n",
       "      <td>a</td>\n",
       "      <td>checkin</td>\n",
       "      <td>30.0</td>\n",
       "      <td>f99a9fc1f7fdd21e</td>\n",
       "      <td>NaN</td>\n",
       "      <td>NaN</td>\n",
       "    </tr>\n",
       "    <tr>\n",
       "      <th>-2147483648</th>\n",
       "      <td>3</td>\n",
       "      <td>0000465cd7c35ad2bdeafec953e08c1a</td>\n",
       "      <td>fb905603d31b2071</td>\n",
       "      <td>a</td>\n",
       "      <td>checkin</td>\n",
       "      <td>60.0</td>\n",
       "      <td>e5626962a6939a75</td>\n",
       "      <td>NaN</td>\n",
       "      <td>10.0</td>\n",
       "    </tr>\n",
       "    <tr>\n",
       "      <th>-2147483648</th>\n",
       "      <td>4</td>\n",
       "      <td>000050cbb4ef5b42b16c4d2cf69e6358</td>\n",
       "      <td>c2bf5e5172a892dc</td>\n",
       "      <td>a</td>\n",
       "      <td>checkin</td>\n",
       "      <td>30.0</td>\n",
       "      <td>787dd6a4c371cbf9</td>\n",
       "      <td>NaN</td>\n",
       "      <td>NaN</td>\n",
       "    </tr>\n",
       "  </tbody>\n",
       "</table>\n",
       "</div>"
      ],
      "text/plain": [
       "             Unnamed: 0                              uuid        session_id  \\\n",
       "timestamp                                                                     \n",
       "-2147483648           0  00000736167c507e8ec225bd9e71f9e5  78245c2c3fba013a   \n",
       "-2147483648           1  00000c69fe345268935463abbfa5d5b3  c559c3be98dca8a4   \n",
       "-2147483648           2  00003bfdab715ee59077a3670331b787  760bf89817ce4b08   \n",
       "-2147483648           3  0000465cd7c35ad2bdeafec953e08c1a  fb905603d31b2071   \n",
       "-2147483648           4  000050cbb4ef5b42b16c4d2cf69e6358  c2bf5e5172a892dc   \n",
       "\n",
       "            group            action  checkin           page_id  n_results  \\\n",
       "timestamp                                                                   \n",
       "-2147483648     b  searchResultPage      NaN  cbeb66d1bc1f1bc2        5.0   \n",
       "-2147483648     a  searchResultPage      NaN  eb658e8722aad674       10.0   \n",
       "-2147483648     a           checkin     30.0  f99a9fc1f7fdd21e        NaN   \n",
       "-2147483648     a           checkin     60.0  e5626962a6939a75        NaN   \n",
       "-2147483648     a           checkin     30.0  787dd6a4c371cbf9        NaN   \n",
       "\n",
       "             result_position  \n",
       "timestamp                     \n",
       "-2147483648              NaN  \n",
       "-2147483648              NaN  \n",
       "-2147483648              NaN  \n",
       "-2147483648             10.0  \n",
       "-2147483648              NaN  "
      ]
     },
     "execution_count": 31,
     "metadata": {},
     "output_type": "execute_result"
    }
   ],
   "source": [
    "event_df = pd.read_csv('events_log_.csv', parse_dates=['timestamp'], index_col='timestamp')\n",
    "event_df.head()"
   ]
  },
  {
   "cell_type": "markdown",
   "id": "c4223197",
   "metadata": {},
   "source": [
    "## 1. What is the daily overall clickthrough rate? How does it vary between the groups?"
   ]
  },
  {
   "cell_type": "code",
   "execution_count": 32,
   "id": "63f7cdb5",
   "metadata": {},
   "outputs": [
    {
     "data": {
      "text/plain": [
       "timestamp    group\n",
       "-2147483648  a        0.361356\n",
       "             b        0.154873\n",
       "dtype: float64"
      ]
     },
     "execution_count": 32,
     "metadata": {},
     "output_type": "execute_result"
    }
   ],
   "source": [
    "group_daily_ctr = events.groupby(['timestamp', 'group']).apply(lambda x: (x['action'] == 'visitPage').sum() / (x['action'] == 'searchResultPage').sum())\n",
    "group_daily_ctr "
   ]
  },
  {
   "cell_type": "code",
   "execution_count": 33,
   "id": "8ae50149",
   "metadata": {},
   "outputs": [],
   "source": [
    "daily_ctr_a = 0.361356 # daily overall clickthrough rate for a\n",
    "daily_ctr_b = 0.154873  # daily overall clickthrough rate for b"
   ]
  },
  {
   "cell_type": "code",
   "execution_count": 35,
   "id": "f04acc6e",
   "metadata": {},
   "outputs": [],
   "source": [
    "from scipy.stats import ttest_ind  # import ttest_ind for the statistical test"
   ]
  },
  {
   "cell_type": "markdown",
   "id": "2618bd46",
   "metadata": {},
   "source": [
    " ## What is the daily overall zero results rate? How does it vary between the groups? Is there a statistically significant difference?"
   ]
  },
  {
   "cell_type": "code",
   "execution_count": 37,
   "id": "8f5b11ae",
   "metadata": {},
   "outputs": [],
   "source": [
    "zero_results_a=[]\n",
    "zero_results_b=[]\n",
    "for i, d in event_df.groupby([event_df.index,event_df.group]):\n",
    "    if d['group'].iloc[0]=='a':\n",
    "        zero_results_a.append(len(d['n_results'][d['n_results'] == 0]) / len(d['action'][d['action'] == 'searchResultPage']))\n",
    "    else:\n",
    "        zero_results_b.append(len(d['n_results'][d['n_results'] == 0]) / len(d['action'][d['action'] == 'searchResultPage']))"
   ]
  },
  {
   "cell_type": "code",
   "execution_count": 38,
   "id": "deac88cf",
   "metadata": {},
   "outputs": [
    {
     "data": {
      "text/plain": [
       "([0.1861786409525103], [0.1836056313548275])"
      ]
     },
     "execution_count": 38,
     "metadata": {},
     "output_type": "execute_result"
    }
   ],
   "source": [
    "zero_results_b, zero_results_a"
   ]
  },
  {
   "cell_type": "code",
   "execution_count": 39,
   "id": "8d417052",
   "metadata": {},
   "outputs": [],
   "source": [
    "zero_results_b = 0.1861786409525103\n",
    "zero_results_a = 0.1836056313548275"
   ]
  },
  {
   "cell_type": "markdown",
   "id": "400e79c4",
   "metadata": {},
   "source": [
    "## Is there a statistically significant difference?"
   ]
  },
  {
   "cell_type": "code",
   "execution_count": 40,
   "id": "342cb75c",
   "metadata": {},
   "outputs": [
    {
     "name": "stdout",
     "output_type": "stream",
     "text": [
      "T-statistic: nan, P-value: nan\n",
      "The difference between the groups is not statistically significant.\n"
     ]
    }
   ],
   "source": [
    "# Perform the t-test\n",
    "t_stat, p_value = ttest_ind(zero_results_a, zero_results_b)\n",
    "\n",
    "# Output the results\n",
    "print(f\"T-statistic: {t_stat}, P-value: {p_value}\")\n",
    "\n",
    "# Interpret the results\n",
    "alpha = 0.05  # significance level\n",
    "if p_value < alpha:\n",
    "    print(\"The difference between the groups is statistically significant.\")\n",
    "else:\n",
    "    print(\"The difference between the groups is not statistically significant.\")\n"
   ]
  },
  {
   "cell_type": "markdown",
   "id": "54b153ed",
   "metadata": {},
   "source": [
    "# Session Length\n",
    "Let session length be approximately the time between the first event and the last event in a session. Choose a variable from the dataset and describe its relationship to session length. Visualize the relationship."
   ]
  },
  {
   "cell_type": "code",
   "execution_count": 42,
   "id": "69d12da5",
   "metadata": {},
   "outputs": [
    {
     "data": {
      "text/html": [
       "<div>\n",
       "<style scoped>\n",
       "    .dataframe tbody tr th:only-of-type {\n",
       "        vertical-align: middle;\n",
       "    }\n",
       "\n",
       "    .dataframe tbody tr th {\n",
       "        vertical-align: top;\n",
       "    }\n",
       "\n",
       "    .dataframe thead th {\n",
       "        text-align: right;\n",
       "    }\n",
       "</style>\n",
       "<table border=\"1\" class=\"dataframe\">\n",
       "  <thead>\n",
       "    <tr style=\"text-align: right;\">\n",
       "      <th></th>\n",
       "      <th>session_id</th>\n",
       "      <th>group</th>\n",
       "      <th>action</th>\n",
       "      <th>checkin</th>\n",
       "      <th>n_results</th>\n",
       "      <th>result_position</th>\n",
       "    </tr>\n",
       "    <tr>\n",
       "      <th>timestamp</th>\n",
       "      <th></th>\n",
       "      <th></th>\n",
       "      <th></th>\n",
       "      <th></th>\n",
       "      <th></th>\n",
       "      <th></th>\n",
       "    </tr>\n",
       "  </thead>\n",
       "  <tbody>\n",
       "    <tr>\n",
       "      <th>-2147483648</th>\n",
       "      <td>78245c2c3fba013a</td>\n",
       "      <td>b</td>\n",
       "      <td>searchResultPage</td>\n",
       "      <td>NaN</td>\n",
       "      <td>5.0</td>\n",
       "      <td>NaN</td>\n",
       "    </tr>\n",
       "    <tr>\n",
       "      <th>-2147483648</th>\n",
       "      <td>c559c3be98dca8a4</td>\n",
       "      <td>a</td>\n",
       "      <td>searchResultPage</td>\n",
       "      <td>NaN</td>\n",
       "      <td>10.0</td>\n",
       "      <td>NaN</td>\n",
       "    </tr>\n",
       "    <tr>\n",
       "      <th>-2147483648</th>\n",
       "      <td>760bf89817ce4b08</td>\n",
       "      <td>a</td>\n",
       "      <td>checkin</td>\n",
       "      <td>30.0</td>\n",
       "      <td>NaN</td>\n",
       "      <td>NaN</td>\n",
       "    </tr>\n",
       "    <tr>\n",
       "      <th>-2147483648</th>\n",
       "      <td>fb905603d31b2071</td>\n",
       "      <td>a</td>\n",
       "      <td>checkin</td>\n",
       "      <td>60.0</td>\n",
       "      <td>NaN</td>\n",
       "      <td>10.0</td>\n",
       "    </tr>\n",
       "    <tr>\n",
       "      <th>-2147483648</th>\n",
       "      <td>c2bf5e5172a892dc</td>\n",
       "      <td>a</td>\n",
       "      <td>checkin</td>\n",
       "      <td>30.0</td>\n",
       "      <td>NaN</td>\n",
       "      <td>NaN</td>\n",
       "    </tr>\n",
       "  </tbody>\n",
       "</table>\n",
       "</div>"
      ],
      "text/plain": [
       "                   session_id group            action  checkin  n_results  \\\n",
       "timestamp                                                                   \n",
       "-2147483648  78245c2c3fba013a     b  searchResultPage      NaN        5.0   \n",
       "-2147483648  c559c3be98dca8a4     a  searchResultPage      NaN       10.0   \n",
       "-2147483648  760bf89817ce4b08     a           checkin     30.0        NaN   \n",
       "-2147483648  fb905603d31b2071     a           checkin     60.0        NaN   \n",
       "-2147483648  c2bf5e5172a892dc     a           checkin     30.0        NaN   \n",
       "\n",
       "             result_position  \n",
       "timestamp                     \n",
       "-2147483648              NaN  \n",
       "-2147483648              NaN  \n",
       "-2147483648              NaN  \n",
       "-2147483648             10.0  \n",
       "-2147483648              NaN  "
      ]
     },
     "execution_count": 42,
     "metadata": {},
     "output_type": "execute_result"
    }
   ],
   "source": [
    "begin_first_action = event_df.sort_index().groupby(['session_id'], sort=True, as_index=False).nth(0).drop(['uuid','page_id','Unnamed: 0'],axis=1)\n",
    "begin_first_action.head()"
   ]
  },
  {
   "cell_type": "code",
   "execution_count": 43,
   "id": "4df5999f",
   "metadata": {},
   "outputs": [
    {
     "data": {
      "text/html": [
       "<div>\n",
       "<style scoped>\n",
       "    .dataframe tbody tr th:only-of-type {\n",
       "        vertical-align: middle;\n",
       "    }\n",
       "\n",
       "    .dataframe tbody tr th {\n",
       "        vertical-align: top;\n",
       "    }\n",
       "\n",
       "    .dataframe thead th {\n",
       "        text-align: right;\n",
       "    }\n",
       "</style>\n",
       "<table border=\"1\" class=\"dataframe\">\n",
       "  <thead>\n",
       "    <tr style=\"text-align: right;\">\n",
       "      <th></th>\n",
       "      <th>session_id</th>\n",
       "      <th>group</th>\n",
       "      <th>action</th>\n",
       "      <th>checkin</th>\n",
       "      <th>n_results</th>\n",
       "      <th>result_position</th>\n",
       "      <th>time</th>\n",
       "    </tr>\n",
       "    <tr>\n",
       "      <th>timestamp</th>\n",
       "      <th></th>\n",
       "      <th></th>\n",
       "      <th></th>\n",
       "      <th></th>\n",
       "      <th></th>\n",
       "      <th></th>\n",
       "      <th></th>\n",
       "    </tr>\n",
       "  </thead>\n",
       "  <tbody>\n",
       "    <tr>\n",
       "      <th>-2147483648</th>\n",
       "      <td>0000cbcb67c19c45</td>\n",
       "      <td>b</td>\n",
       "      <td>searchResultPage</td>\n",
       "      <td>NaN</td>\n",
       "      <td>20.0</td>\n",
       "      <td>NaN</td>\n",
       "      <td>-2147483648</td>\n",
       "    </tr>\n",
       "    <tr>\n",
       "      <th>-2147483648</th>\n",
       "      <td>0001382e027b2ea4</td>\n",
       "      <td>b</td>\n",
       "      <td>checkin</td>\n",
       "      <td>240.0</td>\n",
       "      <td>NaN</td>\n",
       "      <td>1.0</td>\n",
       "      <td>-2147483648</td>\n",
       "    </tr>\n",
       "    <tr>\n",
       "      <th>-2147483648</th>\n",
       "      <td>0001e8bb90445cb2</td>\n",
       "      <td>b</td>\n",
       "      <td>checkin</td>\n",
       "      <td>300.0</td>\n",
       "      <td>NaN</td>\n",
       "      <td>1.0</td>\n",
       "      <td>-2147483648</td>\n",
       "    </tr>\n",
       "    <tr>\n",
       "      <th>-2147483648</th>\n",
       "      <td>000216cf18ae1ab1</td>\n",
       "      <td>a</td>\n",
       "      <td>searchResultPage</td>\n",
       "      <td>NaN</td>\n",
       "      <td>20.0</td>\n",
       "      <td>NaN</td>\n",
       "      <td>-2147483648</td>\n",
       "    </tr>\n",
       "    <tr>\n",
       "      <th>-2147483648</th>\n",
       "      <td>000527f711d50dfc</td>\n",
       "      <td>b</td>\n",
       "      <td>searchResultPage</td>\n",
       "      <td>NaN</td>\n",
       "      <td>1.0</td>\n",
       "      <td>NaN</td>\n",
       "      <td>-2147483648</td>\n",
       "    </tr>\n",
       "  </tbody>\n",
       "</table>\n",
       "</div>"
      ],
      "text/plain": [
       "                   session_id group            action  checkin  n_results  \\\n",
       "timestamp                                                                   \n",
       "-2147483648  0000cbcb67c19c45     b  searchResultPage      NaN       20.0   \n",
       "-2147483648  0001382e027b2ea4     b           checkin    240.0        NaN   \n",
       "-2147483648  0001e8bb90445cb2     b           checkin    300.0        NaN   \n",
       "-2147483648  000216cf18ae1ab1     a  searchResultPage      NaN       20.0   \n",
       "-2147483648  000527f711d50dfc     b  searchResultPage      NaN        1.0   \n",
       "\n",
       "             result_position        time  \n",
       "timestamp                                 \n",
       "-2147483648              NaN -2147483648  \n",
       "-2147483648              1.0 -2147483648  \n",
       "-2147483648              1.0 -2147483648  \n",
       "-2147483648              NaN -2147483648  \n",
       "-2147483648              NaN -2147483648  "
      ]
     },
     "execution_count": 43,
     "metadata": {},
     "output_type": "execute_result"
    }
   ],
   "source": [
    "begin_first_action['time'] = begin_first_action.index\n",
    "begin_first_action.sort_values('session_id').head()"
   ]
  },
  {
   "cell_type": "code",
   "execution_count": 44,
   "id": "6fbf5381",
   "metadata": {},
   "outputs": [],
   "source": [
    "last_action_end = event_df.sort_index().groupby(['session_id'], as_index=False, sort=True).nth(-1).drop(['page_id','uuid','Unnamed: 0'],axis=1)"
   ]
  },
  {
   "cell_type": "code",
   "execution_count": 45,
   "id": "46b1bae2",
   "metadata": {},
   "outputs": [
    {
     "data": {
      "text/html": [
       "<div>\n",
       "<style scoped>\n",
       "    .dataframe tbody tr th:only-of-type {\n",
       "        vertical-align: middle;\n",
       "    }\n",
       "\n",
       "    .dataframe tbody tr th {\n",
       "        vertical-align: top;\n",
       "    }\n",
       "\n",
       "    .dataframe thead th {\n",
       "        text-align: right;\n",
       "    }\n",
       "</style>\n",
       "<table border=\"1\" class=\"dataframe\">\n",
       "  <thead>\n",
       "    <tr style=\"text-align: right;\">\n",
       "      <th></th>\n",
       "      <th>session_id</th>\n",
       "      <th>group</th>\n",
       "      <th>action</th>\n",
       "      <th>checkin</th>\n",
       "      <th>n_results</th>\n",
       "      <th>result_position</th>\n",
       "      <th>time</th>\n",
       "    </tr>\n",
       "    <tr>\n",
       "      <th>timestamp</th>\n",
       "      <th></th>\n",
       "      <th></th>\n",
       "      <th></th>\n",
       "      <th></th>\n",
       "      <th></th>\n",
       "      <th></th>\n",
       "      <th></th>\n",
       "    </tr>\n",
       "  </thead>\n",
       "  <tbody>\n",
       "    <tr>\n",
       "      <th>-2147483648</th>\n",
       "      <td>0000cbcb67c19c45</td>\n",
       "      <td>b</td>\n",
       "      <td>searchResultPage</td>\n",
       "      <td>NaN</td>\n",
       "      <td>20.0</td>\n",
       "      <td>NaN</td>\n",
       "      <td>-2147483648</td>\n",
       "    </tr>\n",
       "    <tr>\n",
       "      <th>-2147483648</th>\n",
       "      <td>0001382e027b2ea4</td>\n",
       "      <td>b</td>\n",
       "      <td>checkin</td>\n",
       "      <td>60.0</td>\n",
       "      <td>NaN</td>\n",
       "      <td>1.0</td>\n",
       "      <td>-2147483648</td>\n",
       "    </tr>\n",
       "    <tr>\n",
       "      <th>-2147483648</th>\n",
       "      <td>0001e8bb90445cb2</td>\n",
       "      <td>b</td>\n",
       "      <td>checkin</td>\n",
       "      <td>10.0</td>\n",
       "      <td>NaN</td>\n",
       "      <td>1.0</td>\n",
       "      <td>-2147483648</td>\n",
       "    </tr>\n",
       "    <tr>\n",
       "      <th>-2147483648</th>\n",
       "      <td>000216cf18ae1ab1</td>\n",
       "      <td>a</td>\n",
       "      <td>searchResultPage</td>\n",
       "      <td>NaN</td>\n",
       "      <td>20.0</td>\n",
       "      <td>NaN</td>\n",
       "      <td>-2147483648</td>\n",
       "    </tr>\n",
       "    <tr>\n",
       "      <th>-2147483648</th>\n",
       "      <td>000527f711d50dfc</td>\n",
       "      <td>b</td>\n",
       "      <td>searchResultPage</td>\n",
       "      <td>NaN</td>\n",
       "      <td>1.0</td>\n",
       "      <td>NaN</td>\n",
       "      <td>-2147483648</td>\n",
       "    </tr>\n",
       "  </tbody>\n",
       "</table>\n",
       "</div>"
      ],
      "text/plain": [
       "                   session_id group            action  checkin  n_results  \\\n",
       "timestamp                                                                   \n",
       "-2147483648  0000cbcb67c19c45     b  searchResultPage      NaN       20.0   \n",
       "-2147483648  0001382e027b2ea4     b           checkin     60.0        NaN   \n",
       "-2147483648  0001e8bb90445cb2     b           checkin     10.0        NaN   \n",
       "-2147483648  000216cf18ae1ab1     a  searchResultPage      NaN       20.0   \n",
       "-2147483648  000527f711d50dfc     b  searchResultPage      NaN        1.0   \n",
       "\n",
       "             result_position        time  \n",
       "timestamp                                 \n",
       "-2147483648              NaN -2147483648  \n",
       "-2147483648              1.0 -2147483648  \n",
       "-2147483648              1.0 -2147483648  \n",
       "-2147483648              NaN -2147483648  \n",
       "-2147483648              NaN -2147483648  "
      ]
     },
     "execution_count": 45,
     "metadata": {},
     "output_type": "execute_result"
    }
   ],
   "source": [
    "last_action_end['time'] = last_action_end.index\n",
    "last_action_end.sort_values('session_id').head()"
   ]
  },
  {
   "cell_type": "code",
   "execution_count": 47,
   "id": "f8e56a31",
   "metadata": {},
   "outputs": [
    {
     "data": {
      "text/html": [
       "<div>\n",
       "<style scoped>\n",
       "    .dataframe tbody tr th:only-of-type {\n",
       "        vertical-align: middle;\n",
       "    }\n",
       "\n",
       "    .dataframe tbody tr th {\n",
       "        vertical-align: top;\n",
       "    }\n",
       "\n",
       "    .dataframe thead th {\n",
       "        text-align: right;\n",
       "    }\n",
       "</style>\n",
       "<table border=\"1\" class=\"dataframe\">\n",
       "  <thead>\n",
       "    <tr style=\"text-align: right;\">\n",
       "      <th></th>\n",
       "      <th>session_id</th>\n",
       "      <th>group</th>\n",
       "      <th>action_first_action</th>\n",
       "      <th>checkin_first_action</th>\n",
       "      <th>n_results_first_action</th>\n",
       "      <th>result_position_first_action</th>\n",
       "      <th>time_first_action</th>\n",
       "      <th>action_last_action</th>\n",
       "      <th>checkin_last_action</th>\n",
       "      <th>n_results_last_action</th>\n",
       "      <th>result_position_last_action</th>\n",
       "      <th>time_last_action</th>\n",
       "    </tr>\n",
       "  </thead>\n",
       "  <tbody>\n",
       "    <tr>\n",
       "      <th>0</th>\n",
       "      <td>78245c2c3fba013a</td>\n",
       "      <td>b</td>\n",
       "      <td>searchResultPage</td>\n",
       "      <td>NaN</td>\n",
       "      <td>5.0</td>\n",
       "      <td>NaN</td>\n",
       "      <td>-2147483648</td>\n",
       "      <td>visitPage</td>\n",
       "      <td>NaN</td>\n",
       "      <td>NaN</td>\n",
       "      <td>3.0</td>\n",
       "      <td>-2147483648</td>\n",
       "    </tr>\n",
       "    <tr>\n",
       "      <th>1</th>\n",
       "      <td>c559c3be98dca8a4</td>\n",
       "      <td>a</td>\n",
       "      <td>searchResultPage</td>\n",
       "      <td>NaN</td>\n",
       "      <td>10.0</td>\n",
       "      <td>NaN</td>\n",
       "      <td>-2147483648</td>\n",
       "      <td>searchResultPage</td>\n",
       "      <td>NaN</td>\n",
       "      <td>20.0</td>\n",
       "      <td>NaN</td>\n",
       "      <td>-2147483648</td>\n",
       "    </tr>\n",
       "    <tr>\n",
       "      <th>2</th>\n",
       "      <td>760bf89817ce4b08</td>\n",
       "      <td>a</td>\n",
       "      <td>checkin</td>\n",
       "      <td>30.0</td>\n",
       "      <td>NaN</td>\n",
       "      <td>NaN</td>\n",
       "      <td>-2147483648</td>\n",
       "      <td>checkin</td>\n",
       "      <td>120.0</td>\n",
       "      <td>NaN</td>\n",
       "      <td>1.0</td>\n",
       "      <td>-2147483648</td>\n",
       "    </tr>\n",
       "    <tr>\n",
       "      <th>3</th>\n",
       "      <td>fb905603d31b2071</td>\n",
       "      <td>a</td>\n",
       "      <td>checkin</td>\n",
       "      <td>60.0</td>\n",
       "      <td>NaN</td>\n",
       "      <td>10.0</td>\n",
       "      <td>-2147483648</td>\n",
       "      <td>visitPage</td>\n",
       "      <td>NaN</td>\n",
       "      <td>NaN</td>\n",
       "      <td>10.0</td>\n",
       "      <td>-2147483648</td>\n",
       "    </tr>\n",
       "    <tr>\n",
       "      <th>4</th>\n",
       "      <td>c2bf5e5172a892dc</td>\n",
       "      <td>a</td>\n",
       "      <td>checkin</td>\n",
       "      <td>30.0</td>\n",
       "      <td>NaN</td>\n",
       "      <td>NaN</td>\n",
       "      <td>-2147483648</td>\n",
       "      <td>visitPage</td>\n",
       "      <td>NaN</td>\n",
       "      <td>NaN</td>\n",
       "      <td>NaN</td>\n",
       "      <td>-2147483648</td>\n",
       "    </tr>\n",
       "  </tbody>\n",
       "</table>\n",
       "</div>"
      ],
      "text/plain": [
       "         session_id group action_first_action  checkin_first_action  \\\n",
       "0  78245c2c3fba013a     b    searchResultPage                   NaN   \n",
       "1  c559c3be98dca8a4     a    searchResultPage                   NaN   \n",
       "2  760bf89817ce4b08     a             checkin                  30.0   \n",
       "3  fb905603d31b2071     a             checkin                  60.0   \n",
       "4  c2bf5e5172a892dc     a             checkin                  30.0   \n",
       "\n",
       "   n_results_first_action  result_position_first_action  time_first_action  \\\n",
       "0                     5.0                           NaN        -2147483648   \n",
       "1                    10.0                           NaN        -2147483648   \n",
       "2                     NaN                           NaN        -2147483648   \n",
       "3                     NaN                          10.0        -2147483648   \n",
       "4                     NaN                           NaN        -2147483648   \n",
       "\n",
       "  action_last_action  checkin_last_action  n_results_last_action  \\\n",
       "0          visitPage                  NaN                    NaN   \n",
       "1   searchResultPage                  NaN                   20.0   \n",
       "2            checkin                120.0                    NaN   \n",
       "3          visitPage                  NaN                    NaN   \n",
       "4          visitPage                  NaN                    NaN   \n",
       "\n",
       "   result_position_last_action  time_last_action  \n",
       "0                          3.0       -2147483648  \n",
       "1                          NaN       -2147483648  \n",
       "2                          1.0       -2147483648  \n",
       "3                         10.0       -2147483648  \n",
       "4                          NaN       -2147483648  "
      ]
     },
     "execution_count": 47,
     "metadata": {},
     "output_type": "execute_result"
    }
   ],
   "source": [
    "session_strt_end = pd.merge(begin_first_action, last_action_end, on = ['session_id','group'], suffixes=('_first_action','_last_action'))\n",
    "session_strt_end.head()"
   ]
  },
  {
   "cell_type": "code",
   "execution_count": 48,
   "id": "27628727",
   "metadata": {},
   "outputs": [],
   "source": [
    "session_strt_end['session_length'] = session_strt_end['time_last_action'] - session_strt_end['time_first_action']"
   ]
  },
  {
   "cell_type": "code",
   "execution_count": 50,
   "id": "e953a6c8",
   "metadata": {},
   "outputs": [
    {
     "data": {
      "text/html": [
       "<div>\n",
       "<style scoped>\n",
       "    .dataframe tbody tr th:only-of-type {\n",
       "        vertical-align: middle;\n",
       "    }\n",
       "\n",
       "    .dataframe tbody tr th {\n",
       "        vertical-align: top;\n",
       "    }\n",
       "\n",
       "    .dataframe thead th {\n",
       "        text-align: right;\n",
       "    }\n",
       "</style>\n",
       "<table border=\"1\" class=\"dataframe\">\n",
       "  <thead>\n",
       "    <tr style=\"text-align: right;\">\n",
       "      <th></th>\n",
       "      <th>session_id</th>\n",
       "      <th>group</th>\n",
       "      <th>action_first_action</th>\n",
       "      <th>checkin_first_action</th>\n",
       "      <th>n_results_first_action</th>\n",
       "      <th>result_position_first_action</th>\n",
       "      <th>time_first_action</th>\n",
       "      <th>action_last_action</th>\n",
       "      <th>checkin_last_action</th>\n",
       "      <th>n_results_last_action</th>\n",
       "      <th>result_position_last_action</th>\n",
       "      <th>time_last_action</th>\n",
       "      <th>session_length</th>\n",
       "    </tr>\n",
       "  </thead>\n",
       "  <tbody>\n",
       "    <tr>\n",
       "      <th>0</th>\n",
       "      <td>78245c2c3fba013a</td>\n",
       "      <td>b</td>\n",
       "      <td>searchResultPage</td>\n",
       "      <td>NaN</td>\n",
       "      <td>5.0</td>\n",
       "      <td>NaN</td>\n",
       "      <td>-2147483648</td>\n",
       "      <td>visitPage</td>\n",
       "      <td>NaN</td>\n",
       "      <td>NaN</td>\n",
       "      <td>3.0</td>\n",
       "      <td>-2147483648</td>\n",
       "      <td>0</td>\n",
       "    </tr>\n",
       "    <tr>\n",
       "      <th>1</th>\n",
       "      <td>c559c3be98dca8a4</td>\n",
       "      <td>a</td>\n",
       "      <td>searchResultPage</td>\n",
       "      <td>NaN</td>\n",
       "      <td>10.0</td>\n",
       "      <td>NaN</td>\n",
       "      <td>-2147483648</td>\n",
       "      <td>searchResultPage</td>\n",
       "      <td>NaN</td>\n",
       "      <td>20.0</td>\n",
       "      <td>NaN</td>\n",
       "      <td>-2147483648</td>\n",
       "      <td>0</td>\n",
       "    </tr>\n",
       "    <tr>\n",
       "      <th>2</th>\n",
       "      <td>760bf89817ce4b08</td>\n",
       "      <td>a</td>\n",
       "      <td>checkin</td>\n",
       "      <td>30.0</td>\n",
       "      <td>NaN</td>\n",
       "      <td>NaN</td>\n",
       "      <td>-2147483648</td>\n",
       "      <td>checkin</td>\n",
       "      <td>120.0</td>\n",
       "      <td>NaN</td>\n",
       "      <td>1.0</td>\n",
       "      <td>-2147483648</td>\n",
       "      <td>0</td>\n",
       "    </tr>\n",
       "    <tr>\n",
       "      <th>3</th>\n",
       "      <td>fb905603d31b2071</td>\n",
       "      <td>a</td>\n",
       "      <td>checkin</td>\n",
       "      <td>60.0</td>\n",
       "      <td>NaN</td>\n",
       "      <td>10.0</td>\n",
       "      <td>-2147483648</td>\n",
       "      <td>visitPage</td>\n",
       "      <td>NaN</td>\n",
       "      <td>NaN</td>\n",
       "      <td>10.0</td>\n",
       "      <td>-2147483648</td>\n",
       "      <td>0</td>\n",
       "    </tr>\n",
       "    <tr>\n",
       "      <th>4</th>\n",
       "      <td>c2bf5e5172a892dc</td>\n",
       "      <td>a</td>\n",
       "      <td>checkin</td>\n",
       "      <td>30.0</td>\n",
       "      <td>NaN</td>\n",
       "      <td>NaN</td>\n",
       "      <td>-2147483648</td>\n",
       "      <td>visitPage</td>\n",
       "      <td>NaN</td>\n",
       "      <td>NaN</td>\n",
       "      <td>NaN</td>\n",
       "      <td>-2147483648</td>\n",
       "      <td>0</td>\n",
       "    </tr>\n",
       "  </tbody>\n",
       "</table>\n",
       "</div>"
      ],
      "text/plain": [
       "         session_id group action_first_action  checkin_first_action  \\\n",
       "0  78245c2c3fba013a     b    searchResultPage                   NaN   \n",
       "1  c559c3be98dca8a4     a    searchResultPage                   NaN   \n",
       "2  760bf89817ce4b08     a             checkin                  30.0   \n",
       "3  fb905603d31b2071     a             checkin                  60.0   \n",
       "4  c2bf5e5172a892dc     a             checkin                  30.0   \n",
       "\n",
       "   n_results_first_action  result_position_first_action  time_first_action  \\\n",
       "0                     5.0                           NaN        -2147483648   \n",
       "1                    10.0                           NaN        -2147483648   \n",
       "2                     NaN                           NaN        -2147483648   \n",
       "3                     NaN                          10.0        -2147483648   \n",
       "4                     NaN                           NaN        -2147483648   \n",
       "\n",
       "  action_last_action  checkin_last_action  n_results_last_action  \\\n",
       "0          visitPage                  NaN                    NaN   \n",
       "1   searchResultPage                  NaN                   20.0   \n",
       "2            checkin                120.0                    NaN   \n",
       "3          visitPage                  NaN                    NaN   \n",
       "4          visitPage                  NaN                    NaN   \n",
       "\n",
       "   result_position_last_action  time_last_action  session_length  \n",
       "0                          3.0       -2147483648               0  \n",
       "1                          NaN       -2147483648               0  \n",
       "2                          1.0       -2147483648               0  \n",
       "3                         10.0       -2147483648               0  \n",
       "4                          NaN       -2147483648               0  "
      ]
     },
     "execution_count": 50,
     "metadata": {},
     "output_type": "execute_result"
    }
   ],
   "source": [
    "session_strt_end.head()"
   ]
  },
  {
   "cell_type": "code",
   "execution_count": 52,
   "id": "2fa39a13",
   "metadata": {},
   "outputs": [
    {
     "data": {
      "image/png": "[encoded data removed]",
      "text/plain": [
       "<Figure size 640x480 with 1 Axes>"
      ]
     },
     "metadata": {},
     "output_type": "display_data"
    }
   ],
   "source": [
    "# import matplotlib.pyplot as plt\n",
    "\n",
    "# Visualization\n",
    "sns.scatterplot(data=session_strt_end, x='result_position_last_action', y='session_length', hue='group')\n",
    "plt.title('Session Length vs. Another Variable')\n",
    "plt.show()"
   ]
  },
  {
   "cell_type": "code",
   "execution_count": null,
   "id": "6a0203e2",
   "metadata": {},
   "outputs": [
    {
     "ename": "",
     "evalue": "",
     "output_type": "error",
     "traceback": [
      "\u001b[1;31mRunning cells with 'venv (Python 3.8.0)' requires the ipykernel package.\n",
      "\u001b[1;31mRun the following command to install 'ipykernel' into the Python environment. \n",
      "\u001b[1;31mCommand: 'conda install -p c:\\Reliance_Health_Assessment\\Reliance_Health\\venv ipykernel --update-deps --force-reinstall'"
     ]
    }
   ],
   "source": [
    "fig = plt.figure(figsize = [13,6])\n",
    "\n",
    "bins = np.linspace(0, 800, 100)\n",
    "\n",
    "plt.subplot(1,2,1)\n",
    "session_strt_end['session_length'].hist(color='k', alpha=0.5, bins=bins)\n",
    "plt.xlabel('session length [s]', size=13)\n",
    "plt.title('Overall distribution of session length', size=15)\n",
    "\n",
    "plt.subplot(1,2,1)\n",
    "plt.scatter(session_strt_end['checkin_last_action'], session_strt_end['session_length']);\n",
    "plt.title('Overall distribution of session length', size=15)\n",
    "plt.xlim([0, 500])\n",
    "plt.ylim([0, 85000])\n",
    "\n",
    "plt.xlabel('Lenght of the last action in the session [s]', size=13)\n",
    "plt.ylabel('Total session length', size=13)\n",
    "\n",
    "plt.tight_layout()\n",
    "plt.show()"
   ]
  },
  {
   "cell_type": "code",
   "execution_count": null,
   "id": "c0560cf2",
   "metadata": {},
   "outputs": [
    {
     "ename": "",
     "evalue": "",
     "output_type": "error",
     "traceback": [
      "\u001b[1;31mRunning cells with 'venv (Python 3.8.0)' requires the ipykernel package.\n",
      "\u001b[1;31mRun the following command to install 'ipykernel' into the Python environment. \n",
      "\u001b[1;31mCommand: 'conda install -p c:\\Reliance_Health_Assessment\\Reliance_Health\\venv ipykernel --update-deps --force-reinstall'"
     ]
    }
   ],
   "source": [
    "fig = plt.figure(figsize = [13,6])\n",
    "\n",
    "bins = np.linspace(0, 800, 100)\n",
    "\n",
    "plt.subplot(1,2,1)\n",
    "session_strt_end['session_length'].hist(color='k', alpha=0.5, bins=bins)\n",
    "plt.xlabel('session length [s]', size=13)\n",
    "plt.title('Overall distribution of session length', size=15)\n",
    "\n",
    "plt.subplot(1,2,1)\n",
    "plt.scatter(session_strt_end['checkin_last_action'], session_strt_end['session_length']);\n",
    "plt.title('Overall distribution of session length', size=15)\n",
    "plt.xlim([0, 500])\n",
    "plt.ylim([0, 85000])\n",
    "\n",
    "plt.xlabel('Lenght of the last action in the session [s]', size=13)\n",
    "plt.ylabel('Total session length', size=13)\n",
    "\n",
    "plt.tight_layout()\n",
    "plt.show()"
   ]
  },
  {
   "cell_type": "code",
   "execution_count": null,
   "id": "fca59895",
   "metadata": {},
   "outputs": [
    {
     "ename": "",
     "evalue": "",
     "output_type": "error",
     "traceback": [
      "\u001b[1;31mRunning cells with 'venv (Python 3.8.0)' requires the ipykernel package.\n",
      "\u001b[1;31mRun the following command to install 'ipykernel' into the Python environment. \n",
      "\u001b[1;31mCommand: 'conda install -p c:\\Reliance_Health_Assessment\\Reliance_Health\\venv ipykernel --update-deps --force-reinstall'"
     ]
    }
   ],
   "source": []
  },
  {
   "cell_type": "code",
   "execution_count": null,
   "id": "ec9babc6",
   "metadata": {},
   "outputs": [
    {
     "ename": "",
     "evalue": "",
     "output_type": "error",
     "traceback": [
      "\u001b[1;31mRunning cells with 'venv (Python 3.8.0)' requires the ipykernel package.\n",
      "\u001b[1;31mRun the following command to install 'ipykernel' into the Python environment. \n",
      "\u001b[1;31mCommand: 'conda install -p c:\\Reliance_Health_Assessment\\Reliance_Health\\venv ipykernel --update-deps --force-reinstall'"
     ]
    }
   ],
   "source": [
    "# # Perform t-test between groups\n",
    "# group_a_zrr = df[df['group'] == 'a']\n",
    "# # group_b_zrr = df[df['group'] == 'b']\n",
    "\n",
    "# # t_stat, p_value = ttest_ind(group_a_zrr, group_b_zrr)\n",
    "# # print(f\"T-statistic: {t_stat}, P-value: {p_value}\")"
   ]
  },
  {
   "cell_type": "code",
   "execution_count": null,
   "id": "c2fb3924",
   "metadata": {},
   "outputs": [
    {
     "ename": "",
     "evalue": "",
     "output_type": "error",
     "traceback": [
      "\u001b[1;31mRunning cells with 'venv (Python 3.8.0)' requires the ipykernel package.\n",
      "\u001b[1;31mRun the following command to install 'ipykernel' into the Python environment. \n",
      "\u001b[1;31mCommand: 'conda install -p c:\\Reliance_Health_Assessment\\Reliance_Health\\venv ipykernel --update-deps --force-reinstall'"
     ]
    }
   ],
   "source": [
    "# zero_results_sessions = len(df[df['n_results'] == 0])/len(df[df['n_results'] == 'searchResultPage'])\n",
    "# # .groupby(['timestamp', 'group'])['session_id'].nunique().reset_index(name='zero_results_sessions')\n",
    "\n"
   ]
  },
  {
   "cell_type": "code",
   "execution_count": null,
   "id": "f3dafb38",
   "metadata": {},
   "outputs": [
    {
     "ename": "",
     "evalue": "",
     "output_type": "error",
     "traceback": [
      "\u001b[1;31mRunning cells with 'venv (Python 3.8.0)' requires the ipykernel package.\n",
      "\u001b[1;31mRun the following command to install 'ipykernel' into the Python environment. \n",
      "\u001b[1;31mCommand: 'conda install -p c:\\Reliance_Health_Assessment\\Reliance_Health\\venv ipykernel --update-deps --force-reinstall'"
     ]
    }
   ],
   "source": [
    "# Example data: Zero results rates for group A and group B\n",
    "# zero_results_a = [0.1, 0.15, 0.12, 0.09, 0.11]\n",
    "# zero_results_b = [0.2, 0.18, 0.21, 0.19, 0.17]"
   ]
  },
  {
   "cell_type": "code",
   "execution_count": null,
   "id": "c6dc512b",
   "metadata": {},
   "outputs": [
    {
     "ename": "",
     "evalue": "",
     "output_type": "error",
     "traceback": [
      "\u001b[1;31mRunning cells with 'venv (Python 3.8.0)' requires the ipykernel package.\n",
      "\u001b[1;31mRun the following command to install 'ipykernel' into the Python environment. \n",
      "\u001b[1;31mCommand: 'conda install -p c:\\Reliance_Health_Assessment\\Reliance_Health\\venv ipykernel --update-deps --force-reinstall'"
     ]
    }
   ],
   "source": [
    "# zero_results_a = events.groupby(['timestamp', 'group']).apply(lambda x: len((x['n_results'] == 0))/ len((x['n_results'] == 'searchResultPage')))\n"
   ]
  },
  {
   "cell_type": "code",
   "execution_count": null,
   "id": "136fef16",
   "metadata": {},
   "outputs": [
    {
     "ename": "",
     "evalue": "",
     "output_type": "error",
     "traceback": [
      "\u001b[1;31mRunning cells with 'venv (Python 3.8.0)' requires the ipykernel package.\n",
      "\u001b[1;31mRun the following command to install 'ipykernel' into the Python environment. \n",
      "\u001b[1;31mCommand: 'conda install -p c:\\Reliance_Health_Assessment\\Reliance_Health\\venv ipykernel --update-deps --force-reinstall'"
     ]
    }
   ],
   "source": [
    "zero_results_b, zero_results_a"
   ]
  },
  {
   "cell_type": "code",
   "execution_count": null,
   "id": "39fb6cf5",
   "metadata": {},
   "outputs": [
    {
     "ename": "",
     "evalue": "",
     "output_type": "error",
     "traceback": [
      "\u001b[1;31mRunning cells with 'venv (Python 3.8.0)' requires the ipykernel package.\n",
      "\u001b[1;31mRun the following command to install 'ipykernel' into the Python environment. \n",
      "\u001b[1;31mCommand: 'conda install -p c:\\Reliance_Health_Assessment\\Reliance_Health\\venv ipykernel --update-deps --force-reinstall'"
     ]
    }
   ],
   "source": [
    "zero_results_a"
   ]
  },
  {
   "cell_type": "code",
   "execution_count": null,
   "id": "f5ed1a2c",
   "metadata": {},
   "outputs": [
    {
     "ename": "",
     "evalue": "",
     "output_type": "error",
     "traceback": [
      "\u001b[1;31mRunning cells with 'venv (Python 3.8.0)' requires the ipykernel package.\n",
      "\u001b[1;31mRun the following command to install 'ipykernel' into the Python environment. \n",
      "\u001b[1;31mCommand: 'conda install -p c:\\Reliance_Health_Assessment\\Reliance_Health\\venv ipykernel --update-deps --force-reinstall'"
     ]
    }
   ],
   "source": [
    "fig = plt.figure(figsize = [13,6])\n",
    "\n",
    "plt.subplot(1,3,1)\n",
    "df['n_results'].hist(color='k', alpha=0.5, bins=500)\n",
    "plt.xlim([-5, 30])\n",
    "plt.title('Overall distribution of no of results', size=15)\n",
    "\n",
    "plt.subplot(1,3,2)\n",
    "index = np.arange(8)\n",
    "bar_width = 0.35\n",
    "\n",
    "rects1 = plt.bar(index, zero_results_a, bar_width,\n",
    "                 alpha=0.5,\n",
    "                 color='b',\n",
    "                 label='A')\n",
    "\n",
    "rects2 = plt.bar(index + bar_width, zero_results_b, bar_width,\n",
    "                 alpha=0.5,\n",
    "                 color='r',\n",
    "                 label='B')\n",
    "\n",
    "plt.ylim([0, 0.25])\n",
    "plt.title('Daily zero results rate', size=15)\n",
    "\n",
    "plt.xlabel('Day', size=13)\n",
    "plt.ylabel('Zero results rate', size=13)\n",
    "\n",
    "plt.xticks(index + bar_width / 2, ('1', '2', '3', '4', '5','6','7','8'))\n",
    "plt.legend()\n",
    "\n",
    "ax = plt.subplot(1,3,3)\n",
    "\n",
    "index = np.arange(2)\n",
    "\n",
    "mean1 = sum(zero_results_a)/len(zero_results_a)\n",
    "mean2 = sum(zero_results_b)/len(zero_results_b)\n",
    "means = [mean1, mean2]\n",
    "\n",
    "zero_error_a = stats.sem(zero_results_a, axis=0)\n",
    "zero_error_b = stats.sem(zero_results_b, axis=0)\n",
    "zero_error = [zero_error_a,zero_error_b]\n",
    "\n",
    "rects = ax.bar(range(len(means)), means, bar_width, color='k', \n",
    "               alpha=0.5, \n",
    "               yerr=zero_error, \n",
    "               error_kw=dict(ecolor='black', lw=2, capsize=5, capthick=2))\n",
    "\n",
    "plt.ylim([0, 0.20])\n",
    "plt.xlim([-0.25, 1.5])\n",
    "\n",
    "plt.title('Overall daily zero results rate: mean', size=15)\n",
    "\n",
    "plt.xlabel('Group', size=13)\n",
    "plt.ylabel('Zero results rate', size=13)\n",
    "\n",
    "plt.xticks(index + bar_width / 2, ('A', 'B'), size=13)\n",
    "\n",
    "plt.tight_layout()\n",
    "plt.show()\n"
   ]
  },
  {
   "cell_type": "code",
   "execution_count": null,
   "id": "6edeeb71",
   "metadata": {},
   "outputs": [
    {
     "ename": "",
     "evalue": "",
     "output_type": "error",
     "traceback": [
      "\u001b[1;31mRunning cells with 'venv (Python 3.8.0)' requires the ipykernel package.\n",
      "\u001b[1;31mRun the following command to install 'ipykernel' into the Python environment. \n",
      "\u001b[1;31mCommand: 'conda install -p c:\\Reliance_Health_Assessment\\Reliance_Health\\venv ipykernel --update-deps --force-reinstall'"
     ]
    }
   ],
   "source": [
    "mean_CRT = sum(clickthroughrate)/len(clickthroughrate)\n",
    "mean_CRT_A = sum(clickthroughratea)/len(clickthroughratea)\n",
    "mean_CRT_B = sum(clickthroughrateb)/len(clickthroughrateb)"
   ]
  },
  {
   "cell_type": "code",
   "execution_count": null,
   "id": "ec360c5c",
   "metadata": {},
   "outputs": [
    {
     "ename": "",
     "evalue": "",
     "output_type": "error",
     "traceback": [
      "\u001b[1;31mRunning cells with 'venv (Python 3.8.0)' requires the ipykernel package.\n",
      "\u001b[1;31mRun the following command to install 'ipykernel' into the Python environment. \n",
      "\u001b[1;31mCommand: 'conda install -p c:\\Reliance_Health_Assessment\\Reliance_Health\\venv ipykernel --update-deps --force-reinstall'"
     ]
    }
   ],
   "source": [
    "mean_CRT,mean_CRT_A, mean_CRT_B "
   ]
  },
  {
   "cell_type": "code",
   "execution_count": null,
   "id": "972561bb",
   "metadata": {},
   "outputs": [
    {
     "ename": "",
     "evalue": "",
     "output_type": "error",
     "traceback": [
      "\u001b[1;31mRunning cells with 'venv (Python 3.8.0)' requires the ipykernel package.\n",
      "\u001b[1;31mRun the following command to install 'ipykernel' into the Python environment. \n",
      "\u001b[1;31mCommand: 'conda install -p c:\\Reliance_Health_Assessment\\Reliance_Health\\venv ipykernel --update-deps --force-reinstall'"
     ]
    }
   ],
   "source": []
  },
  {
   "cell_type": "code",
   "execution_count": null,
   "id": "4733da22",
   "metadata": {},
   "outputs": [
    {
     "ename": "",
     "evalue": "",
     "output_type": "error",
     "traceback": [
      "\u001b[1;31mRunning cells with 'venv (Python 3.8.0)' requires the ipykernel package.\n",
      "\u001b[1;31mRun the following command to install 'ipykernel' into the Python environment. \n",
      "\u001b[1;31mCommand: 'conda install -p c:\\Reliance_Health_Assessment\\Reliance_Health\\venv ipykernel --update-deps --force-reinstall'"
     ]
    }
   ],
   "source": []
  }
 ],
 "metadata": {
  "kernelspec": {
   "display_name": "Python 3 (ipykernel)",
   "language": "python",
   "name": "python3"
  },
  "language_info": {
   "codemirror_mode": {
    "name": "ipython",
    "version": 3
   },
   "file_extension": ".py",
   "mimetype": "text/x-python",
   "name": "python",
   "nbconvert_exporter": "python",
   "pygments_lexer": "ipython3",
   "version": "3.8.0"
  }
 },
 "nbformat": 4,
 "nbformat_minor": 5
}
